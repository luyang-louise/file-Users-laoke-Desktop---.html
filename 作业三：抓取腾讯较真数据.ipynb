{
 "cells": [
  {
   "cell_type": "code",
   "execution_count": 3,
   "id": "6977ed82",
   "metadata": {},
   "outputs": [],
   "source": [
    "import requests\n",
    "from bs4 import BeautifulSoup\n",
    "\n",
    "path = 'https://vp.fact.qq.com/loadmore?artnum=0&token=U2FsdGVkX19Y%252FWA5Aja6RIX%252Fp%252BQdDwYxNrkfozKCTZGnaE99tOURPirZWEjs1Jpy&page='\n",
    "url = path + '0'\n",
    "content = requests.get(url)\n",
    "d = content.json()"
   ]
  },
  {
   "cell_type": "code",
   "execution_count": 4,
   "id": "9532e34b",
   "metadata": {},
   "outputs": [
    {
     "data": {
      "text/plain": [
       "{'title': '新冠疫苗里含剧毒致癌物甲醛，打了疫苗会中毒',\n",
       " 'author': '遗传学博士生',\n",
       " 'authordesc': '遗传学博士生',\n",
       " 'id': '2e93abfdb08288ca39f846556b9f84a0',\n",
       " 'date': '2021-10-27',\n",
       " 'markstyle': 'fake',\n",
       " 'result': '假',\n",
       " 'explain': '谣言',\n",
       " 'abstract': '甲醛灭活技术确实存在，但这不代表疫苗有毒。甲醛可以使病毒中的毒素蛋白失活，同时保留病毒的抗原来激发免疫作用，所以是一类非常合适的病毒灭活剂。在制备的过程中甲醛的用量微乎其微，并且会在病毒灭活后去除残留甲醛。我们大可不必因为病毒的甲醛灭活技术而感到恐慌，一百针疫苗中含有的甲醛，比我们身体含有的甲醛还要少。\\n目前我们使用的新冠疫苗是用β-丙内酯来灭活的，而不是甲醛。β-丙内酯其实也是一种危险的致癌物（摄入毒性和甲醛类似），但是它在水溶液中会快速水解（两小时内水解成无毒、非致癌物质），对人体也是安全的。',\n",
       " 'tag': ['甲醛', '新冠疫苗'],\n",
       " 'type': 1,\n",
       " 'videourl': '',\n",
       " 'cover': '//jiaozhen-70111.picnjc.qpic.cn/qFt7uRWsFkmPKZHsMoMA4A?imageView2/2/w/150/h/90',\n",
       " 'coverrect': '//jiaozhen-70111.picnjc.qpic.cn/qFt7uRWsFkmPKZHsMoMA4A',\n",
       " 'coversqual': '//jiaozhen-70111.picnjc.qpic.cn/qFt7uRWsFkmPKZHsMoMA4A?imageView2/2/w/300/h/300',\n",
       " 'section': '',\n",
       " 'iscolled': False,\n",
       " 'arttype': 'normal'}"
      ]
     },
     "execution_count": 4,
     "metadata": {},
     "output_type": "execute_result"
    }
   ],
   "source": [
    "d['content'][0]"
   ]
  },
  {
   "cell_type": "code",
   "execution_count": 5,
   "id": "8274293d",
   "metadata": {},
   "outputs": [
    {
     "name": "stdout",
     "output_type": "stream",
     "text": [
      "0 1 2 3 4 5 6 7 8 9 10 11 12 13 14 15 16 17 18 19 20 21 22 23 24 25 26 27 28 29 30 31 32 33 34 35 36 37 38 39 40 41 42 43 44 45 46 47 48 49 50 51 52 53 54 55 56 57 58 59 60 61 62 63 64 65 66 67 68 69 70 71 72 73 74 75 76 77 78 79\n"
     ]
    }
   ],
   "source": [
    "print(*range(80))"
   ]
  },
  {
   "cell_type": "code",
   "execution_count": 6,
   "id": "5b149cef",
   "metadata": {},
   "outputs": [
    {
     "data": {
      "text/plain": [
       "0.10082051033005679"
      ]
     },
     "execution_count": 6,
     "metadata": {},
     "output_type": "execute_result"
    }
   ],
   "source": [
    "import random\n",
    "\n",
    "random.random()"
   ]
  },
  {
   "cell_type": "code",
   "execution_count": 7,
   "id": "c8c258dc",
   "metadata": {},
   "outputs": [
    {
     "name": "stdout",
     "output_type": "stream",
     "text": [
      "0\n",
      "1\n",
      "2\n",
      "3\n",
      "4\n",
      "5\n",
      "6\n",
      "7\n",
      "8\n",
      "9\n",
      "10\n",
      "11\n",
      "12\n",
      "13\n",
      "14\n",
      "15\n",
      "16\n",
      "17\n",
      "18\n",
      "19\n",
      "20\n",
      "21\n",
      "22\n",
      "23\n",
      "24\n",
      "25\n",
      "26\n",
      "27\n",
      "28\n",
      "29\n",
      "30\n",
      "31\n",
      "32\n",
      "33\n",
      "34\n",
      "35\n",
      "36\n",
      "37\n",
      "38\n",
      "39\n",
      "40\n",
      "41\n",
      "42\n",
      "43\n",
      "44\n",
      "45\n",
      "46\n",
      "47\n",
      "48\n",
      "49\n",
      "50\n",
      "51\n",
      "52\n",
      "53\n",
      "54\n",
      "55\n",
      "56\n",
      "57\n",
      "58\n",
      "59\n",
      "60\n",
      "61\n",
      "62\n",
      "63\n",
      "64\n",
      "65\n",
      "66\n",
      "67\n",
      "68\n",
      "69\n",
      "70\n",
      "71\n",
      "72\n",
      "73\n",
      "74\n",
      "75\n",
      "76\n",
      "77\n",
      "78\n",
      "79\n"
     ]
    }
   ],
   "source": [
    "from time import sleep\n",
    "import random\n",
    "\n",
    "jsons = []\n",
    "for i in range(80):\n",
    "    print(i)\n",
    "    sleep(random.random())\n",
    "    path = 'https://vp.fact.qq.com/loadmore?artnum=0&token=U2FsdGVkX19Y%252FWA5Aja6RIX%252Fp%252BQdDwYxNrkfozKCTZGnaE99tOURPirZWEjs1Jpy&page='\n",
    "    url = path + str(i)\n",
    "    content = requests.get(url)\n",
    "    d = content.json()\n",
    "    for j in d['content']:\n",
    "        jsons.append(j)"
   ]
  },
  {
   "cell_type": "code",
   "execution_count": 8,
   "id": "c8143913",
   "metadata": {},
   "outputs": [
    {
     "data": {
      "text/plain": [
       "795"
      ]
     },
     "execution_count": 8,
     "metadata": {},
     "output_type": "execute_result"
    }
   ],
   "source": [
    "len(jsons)"
   ]
  },
  {
   "cell_type": "code",
   "execution_count": 9,
   "id": "b977753a",
   "metadata": {},
   "outputs": [
    {
     "data": {
      "text/html": [
       "<div>\n",
       "<style scoped>\n",
       "    .dataframe tbody tr th:only-of-type {\n",
       "        vertical-align: middle;\n",
       "    }\n",
       "\n",
       "    .dataframe tbody tr th {\n",
       "        vertical-align: top;\n",
       "    }\n",
       "\n",
       "    .dataframe thead th {\n",
       "        text-align: right;\n",
       "    }\n",
       "</style>\n",
       "<table border=\"1\" class=\"dataframe\">\n",
       "  <thead>\n",
       "    <tr style=\"text-align: right;\">\n",
       "      <th></th>\n",
       "      <th>title</th>\n",
       "      <th>author</th>\n",
       "      <th>authordesc</th>\n",
       "      <th>id</th>\n",
       "      <th>date</th>\n",
       "      <th>markstyle</th>\n",
       "      <th>result</th>\n",
       "      <th>explain</th>\n",
       "      <th>abstract</th>\n",
       "      <th>tag</th>\n",
       "      <th>type</th>\n",
       "      <th>videourl</th>\n",
       "      <th>cover</th>\n",
       "      <th>coverrect</th>\n",
       "      <th>coversqual</th>\n",
       "      <th>section</th>\n",
       "      <th>iscolled</th>\n",
       "      <th>arttype</th>\n",
       "    </tr>\n",
       "  </thead>\n",
       "  <tbody>\n",
       "    <tr>\n",
       "      <th>0</th>\n",
       "      <td>新冠疫苗里含剧毒致癌物甲醛，打了疫苗会中毒</td>\n",
       "      <td>遗传学博士生</td>\n",
       "      <td>遗传学博士生</td>\n",
       "      <td>2e93abfdb08288ca39f846556b9f84a0</td>\n",
       "      <td>2021-10-27</td>\n",
       "      <td>fake</td>\n",
       "      <td>假</td>\n",
       "      <td>谣言</td>\n",
       "      <td>甲醛灭活技术确实存在，但这不代表疫苗有毒。甲醛可以使病毒中的毒素蛋白失活，同时保留病毒的抗原...</td>\n",
       "      <td>[甲醛, 新冠疫苗]</td>\n",
       "      <td>1</td>\n",
       "      <td></td>\n",
       "      <td>//jiaozhen-70111.picnjc.qpic.cn/qFt7uRWsFkmPKZ...</td>\n",
       "      <td>//jiaozhen-70111.picnjc.qpic.cn/qFt7uRWsFkmPKZ...</td>\n",
       "      <td>//jiaozhen-70111.picnjc.qpic.cn/qFt7uRWsFkmPKZ...</td>\n",
       "      <td></td>\n",
       "      <td>False</td>\n",
       "      <td>normal</td>\n",
       "    </tr>\n",
       "    <tr>\n",
       "      <th>1</th>\n",
       "      <td>新冠口服抗病毒药来了，疫苗不用打了</td>\n",
       "      <td>遗传学博士，科普作者，新药研发从业者</td>\n",
       "      <td>遗传学博士，科普作者，新药研发从业者</td>\n",
       "      <td>e8b9e0d7775169d5cf45d1c31db707b0</td>\n",
       "      <td>2021-10-11</td>\n",
       "      <td>fake</td>\n",
       "      <td>假</td>\n",
       "      <td>谣言</td>\n",
       "      <td>使用方便并能用在感染早期、降低新冠重症风险的口服抗病毒药一度是空白，此类药物的研发对于新冠早...</td>\n",
       "      <td>[新冠肺炎, 新型冠状病毒]</td>\n",
       "      <td>1</td>\n",
       "      <td></td>\n",
       "      <td>//jiaozhen-70111.picnjc.qpic.cn/x9cw3H69xiWypZ...</td>\n",
       "      <td>//jiaozhen-70111.picnjc.qpic.cn/x9cw3H69xiWypZ...</td>\n",
       "      <td>//jiaozhen-70111.picnjc.qpic.cn/x9cw3H69xiWypZ...</td>\n",
       "      <td></td>\n",
       "      <td>False</td>\n",
       "      <td>normal</td>\n",
       "    </tr>\n",
       "    <tr>\n",
       "      <th>2</th>\n",
       "      <td>张文宏：今冬非常严峻！疫情对人类未来影响巨大！</td>\n",
       "      <td>福建日报社东南网承办</td>\n",
       "      <td>福建日报社东南网承办</td>\n",
       "      <td>230c5bf33f1c51dc21bf994f5f818e47</td>\n",
       "      <td>2021-09-26</td>\n",
       "      <td>fake</td>\n",
       "      <td>假</td>\n",
       "      <td>谣言</td>\n",
       "      <td>张文宏教授曾在今年4月接受媒体采访时对该网传消息辟谣，网传文章并非他所说、所写。事实上：张文...</td>\n",
       "      <td>[张文宏, 疫情]</td>\n",
       "      <td>1</td>\n",
       "      <td></td>\n",
       "      <td>//jiaozhen-70111.picnjc.qpic.cn/6C3vD93YwDcmp2...</td>\n",
       "      <td>//jiaozhen-70111.picnjc.qpic.cn/6C3vD93YwDcmp2...</td>\n",
       "      <td>//jiaozhen-70111.picnjc.qpic.cn/6C3vD93YwDcmp2...</td>\n",
       "      <td></td>\n",
       "      <td>False</td>\n",
       "      <td>normal</td>\n",
       "    </tr>\n",
       "    <tr>\n",
       "      <th>3</th>\n",
       "      <td>北京健康宝只能在北京用</td>\n",
       "      <td>北京地区网站联合辟谣平台</td>\n",
       "      <td>北京地区网站联合辟谣平台</td>\n",
       "      <td>82b275ccba95683cb7178f00a5e808b8</td>\n",
       "      <td>2021-09-22</td>\n",
       "      <td>fake</td>\n",
       "      <td>假</td>\n",
       "      <td>谣言</td>\n",
       "      <td>北京健康宝在京外也可正常使用，出现“打不开”的情况，一般是网络方面的问题，比如在商业楼宇、机...</td>\n",
       "      <td>[健康宝, 北京]</td>\n",
       "      <td>1</td>\n",
       "      <td></td>\n",
       "      <td>//jiaozhen-70111.picnjc.qpic.cn/5V45vFj3pvk1T3...</td>\n",
       "      <td>//jiaozhen-70111.picnjc.qpic.cn/5V45vFj3pvk1T3...</td>\n",
       "      <td>//jiaozhen-70111.picnjc.qpic.cn/5V45vFj3pvk1T3...</td>\n",
       "      <td></td>\n",
       "      <td>False</td>\n",
       "      <td>normal</td>\n",
       "    </tr>\n",
       "    <tr>\n",
       "      <th>4</th>\n",
       "      <td>9月12日，钟南山院士到达莆田开展防疫工作</td>\n",
       "      <td>金台资讯</td>\n",
       "      <td>人民网资讯精选官方账号</td>\n",
       "      <td>97097f394e80f908bbf64e49be8212bc</td>\n",
       "      <td>2021-09-19</td>\n",
       "      <td>fake</td>\n",
       "      <td>假</td>\n",
       "      <td>谣言</td>\n",
       "      <td>9月12日，钟南山秘书回应，目前钟南山仍在广东，来闽消息不属实。</td>\n",
       "      <td>[钟南山, 莆田]</td>\n",
       "      <td>1</td>\n",
       "      <td></td>\n",
       "      <td>//jiaozhen-70111.picnjc.qpic.cn/bEZc9MLiujzP9S...</td>\n",
       "      <td>//jiaozhen-70111.picnjc.qpic.cn/bEZc9MLiujzP9S...</td>\n",
       "      <td>//jiaozhen-70111.picnjc.qpic.cn/bEZc9MLiujzP9S...</td>\n",
       "      <td></td>\n",
       "      <td>False</td>\n",
       "      <td>normal</td>\n",
       "    </tr>\n",
       "  </tbody>\n",
       "</table>\n",
       "</div>"
      ],
      "text/plain": [
       "                     title              author          authordesc  \\\n",
       "0    新冠疫苗里含剧毒致癌物甲醛，打了疫苗会中毒              遗传学博士生              遗传学博士生   \n",
       "1        新冠口服抗病毒药来了，疫苗不用打了  遗传学博士，科普作者，新药研发从业者  遗传学博士，科普作者，新药研发从业者   \n",
       "2  张文宏：今冬非常严峻！疫情对人类未来影响巨大！          福建日报社东南网承办          福建日报社东南网承办   \n",
       "3              北京健康宝只能在北京用        北京地区网站联合辟谣平台        北京地区网站联合辟谣平台   \n",
       "4    9月12日，钟南山院士到达莆田开展防疫工作                金台资讯         人民网资讯精选官方账号   \n",
       "\n",
       "                                 id        date markstyle result explain  \\\n",
       "0  2e93abfdb08288ca39f846556b9f84a0  2021-10-27      fake      假      谣言   \n",
       "1  e8b9e0d7775169d5cf45d1c31db707b0  2021-10-11      fake      假      谣言   \n",
       "2  230c5bf33f1c51dc21bf994f5f818e47  2021-09-26      fake      假      谣言   \n",
       "3  82b275ccba95683cb7178f00a5e808b8  2021-09-22      fake      假      谣言   \n",
       "4  97097f394e80f908bbf64e49be8212bc  2021-09-19      fake      假      谣言   \n",
       "\n",
       "                                            abstract             tag  type  \\\n",
       "0  甲醛灭活技术确实存在，但这不代表疫苗有毒。甲醛可以使病毒中的毒素蛋白失活，同时保留病毒的抗原...      [甲醛, 新冠疫苗]     1   \n",
       "1  使用方便并能用在感染早期、降低新冠重症风险的口服抗病毒药一度是空白，此类药物的研发对于新冠早...  [新冠肺炎, 新型冠状病毒]     1   \n",
       "2  张文宏教授曾在今年4月接受媒体采访时对该网传消息辟谣，网传文章并非他所说、所写。事实上：张文...       [张文宏, 疫情]     1   \n",
       "3  北京健康宝在京外也可正常使用，出现“打不开”的情况，一般是网络方面的问题，比如在商业楼宇、机...       [健康宝, 北京]     1   \n",
       "4                   9月12日，钟南山秘书回应，目前钟南山仍在广东，来闽消息不属实。       [钟南山, 莆田]     1   \n",
       "\n",
       "  videourl                                              cover  \\\n",
       "0           //jiaozhen-70111.picnjc.qpic.cn/qFt7uRWsFkmPKZ...   \n",
       "1           //jiaozhen-70111.picnjc.qpic.cn/x9cw3H69xiWypZ...   \n",
       "2           //jiaozhen-70111.picnjc.qpic.cn/6C3vD93YwDcmp2...   \n",
       "3           //jiaozhen-70111.picnjc.qpic.cn/5V45vFj3pvk1T3...   \n",
       "4           //jiaozhen-70111.picnjc.qpic.cn/bEZc9MLiujzP9S...   \n",
       "\n",
       "                                           coverrect  \\\n",
       "0  //jiaozhen-70111.picnjc.qpic.cn/qFt7uRWsFkmPKZ...   \n",
       "1  //jiaozhen-70111.picnjc.qpic.cn/x9cw3H69xiWypZ...   \n",
       "2  //jiaozhen-70111.picnjc.qpic.cn/6C3vD93YwDcmp2...   \n",
       "3  //jiaozhen-70111.picnjc.qpic.cn/5V45vFj3pvk1T3...   \n",
       "4  //jiaozhen-70111.picnjc.qpic.cn/bEZc9MLiujzP9S...   \n",
       "\n",
       "                                          coversqual section  iscolled arttype  \n",
       "0  //jiaozhen-70111.picnjc.qpic.cn/qFt7uRWsFkmPKZ...             False  normal  \n",
       "1  //jiaozhen-70111.picnjc.qpic.cn/x9cw3H69xiWypZ...             False  normal  \n",
       "2  //jiaozhen-70111.picnjc.qpic.cn/6C3vD93YwDcmp2...             False  normal  \n",
       "3  //jiaozhen-70111.picnjc.qpic.cn/5V45vFj3pvk1T3...             False  normal  \n",
       "4  //jiaozhen-70111.picnjc.qpic.cn/bEZc9MLiujzP9S...             False  normal  "
      ]
     },
     "execution_count": 9,
     "metadata": {},
     "output_type": "execute_result"
    }
   ],
   "source": [
    "import pandas as pd\n",
    "df = pd.DataFrame(jsons)\n",
    "df.head()"
   ]
  },
  {
   "cell_type": "code",
   "execution_count": 10,
   "id": "69f9aa87",
   "metadata": {},
   "outputs": [],
   "source": [
    "df.to_excel('/Users/laoke/Desktop/研究生-好好学习/大数据挖掘/作业三结果：10.30.xlsx')"
   ]
  },
  {
   "cell_type": "code",
   "execution_count": 11,
   "id": "4dac380a",
   "metadata": {},
   "outputs": [
    {
     "data": {
      "text/plain": [
       "593"
      ]
     },
     "execution_count": 11,
     "metadata": {},
     "output_type": "execute_result"
    }
   ],
   "source": [
    "a=df[df['result']=='假']\n",
    "len(a)"
   ]
  },
  {
   "cell_type": "code",
   "execution_count": 12,
   "id": "3fd3c725",
   "metadata": {},
   "outputs": [
    {
     "data": {
      "text/plain": [
       "71"
      ]
     },
     "execution_count": 12,
     "metadata": {},
     "output_type": "execute_result"
    }
   ],
   "source": [
    "a=df[df['result']=='真']\n",
    "len(a)"
   ]
  },
  {
   "cell_type": "code",
   "execution_count": 13,
   "id": "61c276fb",
   "metadata": {},
   "outputs": [
    {
     "data": {
      "text/plain": [
       "131"
      ]
     },
     "execution_count": 13,
     "metadata": {},
     "output_type": "execute_result"
    }
   ],
   "source": [
    "a=df[df['result']=='疑']\n",
    "len(a)"
   ]
  },
  {
   "cell_type": "code",
   "execution_count": 14,
   "id": "7711cbfd",
   "metadata": {},
   "outputs": [
    {
     "data": {
      "text/plain": [
       "0"
      ]
     },
     "execution_count": 14,
     "metadata": {},
     "output_type": "execute_result"
    }
   ],
   "source": [
    "a=df[df['result']=='其他']\n",
    "len(a)"
   ]
  },
  {
   "cell_type": "code",
   "execution_count": null,
   "id": "422066aa",
   "metadata": {},
   "outputs": [],
   "source": []
  }
 ],
 "metadata": {
  "kernelspec": {
   "display_name": "Python 3",
   "language": "python",
   "name": "python3"
  },
  "language_info": {
   "codemirror_mode": {
    "name": "ipython",
    "version": 3
   },
   "file_extension": ".py",
   "mimetype": "text/x-python",
   "name": "python",
   "nbconvert_exporter": "python",
   "pygments_lexer": "ipython3",
   "version": "3.8.8"
  }
 },
 "nbformat": 4,
 "nbformat_minor": 5
}
